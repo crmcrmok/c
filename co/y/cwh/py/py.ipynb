{
  "nbformat": 4,
  "nbformat_minor": 0,
  "metadata": {
    "colab": {
      "name": "py.ipynb",
      "provenance": [],
      "collapsed_sections": [
        "6yntFxW4fwDn",
        "0puwEpT6qBVK"
      ],
      "authorship_tag": "ABX9TyNzzk0Pav6zsEckL/Eb4zpf",
      "include_colab_link": true
    },
    "kernelspec": {
      "name": "python3",
      "display_name": "Python 3"
    }
  },
  "cells": [
    {
      "cell_type": "markdown",
      "metadata": {
        "id": "view-in-github",
        "colab_type": "text"
      },
      "source": [
        "<a href=\"https://colab.research.google.com/github/crmcrmok/c/blob/master/co/y/cwh/py/py.ipynb\" target=\"_parent\"><img src=\"https://colab.research.google.com/assets/colab-badge.svg\" alt=\"Open In Colab\"/></a>"
      ]
    },
    {
      "cell_type": "code",
      "metadata": {
        "id": "UHWO-GjOe_dS",
        "colab_type": "code",
        "colab": {}
      },
      "source": [
        ""
      ],
      "execution_count": 0,
      "outputs": []
    },
    {
      "cell_type": "markdown",
      "metadata": {
        "id": "6yntFxW4fwDn",
        "colab_type": "text"
      },
      "source": [
        "## video 9\n",
        "\n",
        "List -> container of container\n",
        "\n"
      ]
    },
    {
      "cell_type": "code",
      "metadata": {
        "id": "9ZquNp2kf4Zn",
        "colab_type": "code",
        "colab": {}
      },
      "source": [
        "number = [2,5,9,7,3]"
      ],
      "execution_count": 0,
      "outputs": []
    },
    {
      "cell_type": "code",
      "metadata": {
        "id": "j7HbUagtiJm2",
        "colab_type": "code",
        "colab": {
          "base_uri": "https://localhost:8080/",
          "height": 0
        },
        "outputId": "05ef268e-a716-4aa4-94f4-9404c188e4cf"
      },
      "source": [
        "number.sort()\n",
        "print(number)"
      ],
      "execution_count": 11,
      "outputs": [
        {
          "output_type": "stream",
          "text": [
            "[2, 3, 5, 7, 9]\n"
          ],
          "name": "stdout"
        }
      ]
    },
    {
      "cell_type": "code",
      "metadata": {
        "colab_type": "code",
        "outputId": "db285cc5-2366-4c61-a022-1fd3c2222a2e",
        "id": "75JBoHSgjIQK",
        "colab": {
          "base_uri": "https://localhost:8080/",
          "height": 0
        }
      },
      "source": [
        "number.reverse()\n",
        "print(number)"
      ],
      "execution_count": 13,
      "outputs": [
        {
          "output_type": "stream",
          "text": [
            "[9, 7, 5, 3, 2]\n"
          ],
          "name": "stdout"
        }
      ]
    },
    {
      "cell_type": "code",
      "metadata": {
        "id": "jrMvmAygiN0D",
        "colab_type": "code",
        "colab": {
          "base_uri": "https://localhost:8080/",
          "height": 0
        },
        "outputId": "b6e94619-eedf-4150-8fbe-ff3b677aad63"
      },
      "source": [
        "print(number)"
      ],
      "execution_count": 15,
      "outputs": [
        {
          "output_type": "stream",
          "text": [
            "[9, 7, 5, 3, 2]\n"
          ],
          "name": "stdout"
        }
      ]
    },
    {
      "cell_type": "markdown",
      "metadata": {
        "id": "q3Yoq8Cajk0D",
        "colab_type": "text"
      },
      "source": [
        "In list slicing, only use -1 negative number in order, else on other negative number, it shows wrong output generally blank list"
      ]
    },
    {
      "cell_type": "code",
      "metadata": {
        "id": "oygQiIJkj54V",
        "colab_type": "code",
        "colab": {
          "base_uri": "https://localhost:8080/",
          "height": 0
        },
        "outputId": "f540dd82-2ab7-4147-a90c-d86412d8ff65"
      },
      "source": [
        "print(len(number))\n",
        "print(max(number))\n",
        "print(min(number))"
      ],
      "execution_count": 14,
      "outputs": [
        {
          "output_type": "stream",
          "text": [
            "5\n",
            "9\n",
            "2\n"
          ],
          "name": "stdout"
        }
      ]
    },
    {
      "cell_type": "code",
      "metadata": {
        "id": "IhhruMU6kNqi",
        "colab_type": "code",
        "colab": {
          "base_uri": "https://localhost:8080/",
          "height": 0
        },
        "outputId": "5d369623-245a-4bd6-adc8-89d31f370734"
      },
      "source": [
        "#append add only in last\n",
        "number.append(6)\n",
        "print(number)"
      ],
      "execution_count": 17,
      "outputs": [
        {
          "output_type": "stream",
          "text": [
            "[9, 7, 5, 3, 2, 6, 6]\n"
          ],
          "name": "stdout"
        }
      ]
    },
    {
      "cell_type": "code",
      "metadata": {
        "id": "0SAhFPCDkezf",
        "colab_type": "code",
        "colab": {
          "base_uri": "https://localhost:8080/",
          "height": 0
        },
        "outputId": "ade843ab-bdcf-4738-b65f-4c7f92cba48c"
      },
      "source": [
        "#insert : insert object before index\n",
        "# parameter : index, object\n",
        "number.insert(2,11)\n",
        "print(number)"
      ],
      "execution_count": 18,
      "outputs": [
        {
          "output_type": "stream",
          "text": [
            "[9, 7, 11, 5, 3, 2, 6, 6]\n"
          ],
          "name": "stdout"
        }
      ]
    },
    {
      "cell_type": "code",
      "metadata": {
        "id": "IkVuXBS7lVG-",
        "colab_type": "code",
        "colab": {
          "base_uri": "https://localhost:8080/",
          "height": 0
        },
        "outputId": "5fe60602-32ab-4be2-fcfd-6a9ea5e38c28"
      },
      "source": [
        "# L.remove(value) -> None  -- remove first occurrence of value\n",
        "# Raises ValueError if the value is not present\n",
        "number.remove(6)\n",
        "print(number)"
      ],
      "execution_count": 19,
      "outputs": [
        {
          "output_type": "stream",
          "text": [
            "[9, 7, 11, 5, 3, 2, 6]\n"
          ],
          "name": "stdout"
        }
      ]
    },
    {
      "cell_type": "code",
      "metadata": {
        "id": "djYAYlL-mLJf",
        "colab_type": "code",
        "colab": {
          "base_uri": "https://localhost:8080/",
          "height": 0
        },
        "outputId": "a3a68222-2e77-4915-fbc9-e22a914f3425"
      },
      "source": [
        "# L.pop([index]) -> item  -- remove and return intem at index (defaut last)\n",
        "# Raises IndexError if list is empty or index is out of range.\n",
        "number.pop()\n",
        "print(number)"
      ],
      "execution_count": 20,
      "outputs": [
        {
          "output_type": "stream",
          "text": [
            "[9, 7, 11, 5, 3, 2]\n"
          ],
          "name": "stdout"
        }
      ]
    },
    {
      "cell_type": "markdown",
      "metadata": {
        "id": "pP97zob1n4O9",
        "colab_type": "text"
      },
      "source": [
        "mutable -> can change\n",
        "\n",
        "immutable -> cannot change\n",
        "\n",
        "() -> parenthesis"
      ]
    },
    {
      "cell_type": "code",
      "metadata": {
        "id": "Eu-3McSeoC2N",
        "colab_type": "code",
        "colab": {
          "base_uri": "https://localhost:8080/",
          "height": 0
        },
        "outputId": "b05149ef-ba5e-4050-fb62-707c656a3fa2"
      },
      "source": [
        "# when defines one element tuple, you need to add ok after item\n",
        "print(type((1)))\n",
        "print(type(1))\n",
        "print(type(1,))\n",
        "print(type((1,)))"
      ],
      "execution_count": 26,
      "outputs": [
        {
          "output_type": "stream",
          "text": [
            "<class 'int'>\n",
            "<class 'int'>\n",
            "<class 'int'>\n",
            "<class 'tuple'>\n"
          ],
          "name": "stdout"
        }
      ]
    },
    {
      "cell_type": "code",
      "metadata": {
        "id": "CmajU_3QoXS1",
        "colab_type": "code",
        "colab": {}
      },
      "source": [
        ""
      ],
      "execution_count": 0,
      "outputs": []
    },
    {
      "cell_type": "markdown",
      "metadata": {
        "id": "FNyin6u6pDfA",
        "colab_type": "text"
      },
      "source": [
        "Swap two numbers"
      ]
    },
    {
      "cell_type": "code",
      "metadata": {
        "id": "qRlH_KaapGWO",
        "colab_type": "code",
        "colab": {}
      },
      "source": [
        "a = 5\n",
        "b = 9"
      ],
      "execution_count": 0,
      "outputs": []
    },
    {
      "cell_type": "code",
      "metadata": {
        "id": "q5hGjb8IpQXs",
        "colab_type": "code",
        "colab": {
          "base_uri": "https://localhost:8080/",
          "height": 0
        },
        "outputId": "db418994-0693-4f57-fb36-bfdebf67af76"
      },
      "source": [
        "#old fassion\n",
        "temp = a\n",
        "a = b\n",
        "b = temp\n",
        "print(a,b)"
      ],
      "execution_count": 28,
      "outputs": [
        {
          "output_type": "stream",
          "text": [
            "9 5\n"
          ],
          "name": "stdout"
        }
      ]
    },
    {
      "cell_type": "code",
      "metadata": {
        "id": "4oaWlkuMpbsk",
        "colab_type": "code",
        "colab": {
          "base_uri": "https://localhost:8080/",
          "height": 0
        },
        "outputId": "46e9bd5e-ebae-45b4-b5ae-a4b724ba15ca"
      },
      "source": [
        "# python way\n",
        "a,b = b,a\n",
        "print(a,b)"
      ],
      "execution_count": 29,
      "outputs": [
        {
          "output_type": "stream",
          "text": [
            "5 9\n"
          ],
          "name": "stdout"
        }
      ]
    },
    {
      "cell_type": "code",
      "metadata": {
        "id": "zLh2KPUqpjz-",
        "colab_type": "code",
        "colab": {}
      },
      "source": [
        ""
      ],
      "execution_count": 0,
      "outputs": []
    },
    {
      "cell_type": "markdown",
      "metadata": {
        "id": "OPU2mAaaqAGx",
        "colab_type": "text"
      },
      "source": [
        ""
      ]
    },
    {
      "cell_type": "markdown",
      "metadata": {
        "id": "iK30EJdRqBHK",
        "colab_type": "text"
      },
      "source": [
        ""
      ]
    },
    {
      "cell_type": "markdown",
      "metadata": {
        "id": "0puwEpT6qBVK",
        "colab_type": "text"
      },
      "source": [
        "## Video 10 \n",
        "\n",
        "Dictionary"
      ]
    },
    {
      "cell_type": "code",
      "metadata": {
        "id": "cHulO-IpqNVh",
        "colab_type": "code",
        "colab": {}
      },
      "source": [
        ""
      ],
      "execution_count": 0,
      "outputs": []
    }
  ]
}